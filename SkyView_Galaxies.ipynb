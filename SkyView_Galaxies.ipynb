{
 "cells": [
  {
   "cell_type": "code",
   "execution_count": 1,
   "metadata": {
    "collapsed": true
   },
   "outputs": [],
   "source": [
    "import requests\n",
    "from astroquery.skyview import SkyView"
   ]
  },
  {
   "cell_type": "code",
   "execution_count": 2,
   "metadata": {
    "collapsed": true
   },
   "outputs": [],
   "source": [
    "# SkyView.list_surveys()"
   ]
  },
  {
   "cell_type": "code",
   "execution_count": 3,
   "metadata": {
    "collapsed": true
   },
   "outputs": [],
   "source": [
    "ListSurveys=['GALEX Near UV','GALEX Far UV','SDSSg','SDSSi','SDSSr','SDSSu','SDSSz','2MASS-J','2MASS-H','2MASS-K',\n",
    "             'GOODS: Spitzer IRAC 3.6','GOODS: Spitzer IRAC 4.5','GOODS: Spitzer IRAC 5.8','GOODS: Spitzer IRAC 8.0',\n",
    "             'GOODS: Spitzer MIPS 24','GOODS: Herschel 100','GOODS: Herschel 160','GOODS: Herschel 250',\n",
    "             'GOODS: Herschel 350','GOODS: Herschel 500', 'WISE 3.4', 'WISE 4.6', 'WISE 12', 'WISE 22']"
   ]
  },
  {
   "cell_type": "code",
   "execution_count": 4,
   "metadata": {
    "collapsed": false
   },
   "outputs": [],
   "source": [
    "paths= SkyView.get_image_list(position='NGC5100', survey=ListSurveys)"
   ]
  },
  {
   "cell_type": "code",
   "execution_count": 5,
   "metadata": {
    "collapsed": false
   },
   "outputs": [
    {
     "data": {
      "text/plain": [
       "['https://skyview.gsfc.nasa.gov/tempspace/fits/skv6036325785943_1.fits',\n",
       " 'https://skyview.gsfc.nasa.gov/tempspace/fits/skv6036325785943_2.fits',\n",
       " 'https://skyview.gsfc.nasa.gov/tempspace/fits/skv6036325785943_3.fits',\n",
       " 'https://skyview.gsfc.nasa.gov/tempspace/fits/skv6036325785943_4.fits',\n",
       " 'https://skyview.gsfc.nasa.gov/tempspace/fits/skv6036325785943_5.fits',\n",
       " 'https://skyview.gsfc.nasa.gov/tempspace/fits/skv6036325785943_6.fits',\n",
       " 'https://skyview.gsfc.nasa.gov/tempspace/fits/skv6036325785943_7.fits',\n",
       " 'https://skyview.gsfc.nasa.gov/tempspace/fits/skv6036325785943_8.fits',\n",
       " 'https://skyview.gsfc.nasa.gov/tempspace/fits/skv6036325785943_9.fits',\n",
       " 'https://skyview.gsfc.nasa.gov/tempspace/fits/skv6036325785943_10.fits',\n",
       " 'https://skyview.gsfc.nasa.gov/tempspace/fits/skv6036325785943_11.fits',\n",
       " 'https://skyview.gsfc.nasa.gov/tempspace/fits/skv6036325785943_12.fits',\n",
       " 'https://skyview.gsfc.nasa.gov/tempspace/fits/skv6036325785943_13.fits',\n",
       " 'https://skyview.gsfc.nasa.gov/tempspace/fits/skv6036325785943_14.fits',\n",
       " 'https://skyview.gsfc.nasa.gov/tempspace/fits/skv6036325785943_15.fits',\n",
       " 'https://skyview.gsfc.nasa.gov/tempspace/fits/skv6036325785943_16.fits',\n",
       " 'https://skyview.gsfc.nasa.gov/tempspace/fits/skv6036325785943_17.fits',\n",
       " 'https://skyview.gsfc.nasa.gov/tempspace/fits/skv6036325785943_18.fits',\n",
       " 'https://skyview.gsfc.nasa.gov/tempspace/fits/skv6036325785943_19.fits',\n",
       " 'https://skyview.gsfc.nasa.gov/tempspace/fits/skv6036325785943_20.fits',\n",
       " 'https://skyview.gsfc.nasa.gov/tempspace/fits/skv6036325785943_21.fits',\n",
       " 'https://skyview.gsfc.nasa.gov/tempspace/fits/skv6036325785943_22.fits',\n",
       " 'https://skyview.gsfc.nasa.gov/tempspace/fits/skv6036325785943_23.fits',\n",
       " 'https://skyview.gsfc.nasa.gov/tempspace/fits/skv6036325785943_24.fits']"
      ]
     },
     "execution_count": 5,
     "metadata": {},
     "output_type": "execute_result"
    }
   ],
   "source": [
    "paths"
   ]
  },
  {
   "cell_type": "code",
   "execution_count": 6,
   "metadata": {
    "collapsed": false
   },
   "outputs": [
    {
     "name": "stdout",
     "output_type": "stream",
     "text": [
      "https://skyview.gsfc.nasa.gov/tempspace/fits/skv6036325785943_1.fits File exists!\n",
      "https://skyview.gsfc.nasa.gov/tempspace/fits/skv6036325785943_2.fits File exists!\n",
      "The file does not exits at https://skyview.gsfc.nasa.gov/tempspace/fits/skv6036325785943_3.fits\n",
      "The file does not exits at https://skyview.gsfc.nasa.gov/tempspace/fits/skv6036325785943_4.fits\n",
      "The file does not exits at https://skyview.gsfc.nasa.gov/tempspace/fits/skv6036325785943_5.fits\n",
      "The file does not exits at https://skyview.gsfc.nasa.gov/tempspace/fits/skv6036325785943_6.fits\n",
      "The file does not exits at https://skyview.gsfc.nasa.gov/tempspace/fits/skv6036325785943_7.fits\n",
      "https://skyview.gsfc.nasa.gov/tempspace/fits/skv6036325785943_8.fits File exists!\n",
      "https://skyview.gsfc.nasa.gov/tempspace/fits/skv6036325785943_9.fits File exists!\n",
      "https://skyview.gsfc.nasa.gov/tempspace/fits/skv6036325785943_10.fits File exists!\n",
      "The file does not exits at https://skyview.gsfc.nasa.gov/tempspace/fits/skv6036325785943_11.fits\n",
      "The file does not exits at https://skyview.gsfc.nasa.gov/tempspace/fits/skv6036325785943_12.fits\n",
      "The file does not exits at https://skyview.gsfc.nasa.gov/tempspace/fits/skv6036325785943_13.fits\n",
      "The file does not exits at https://skyview.gsfc.nasa.gov/tempspace/fits/skv6036325785943_14.fits\n",
      "The file does not exits at https://skyview.gsfc.nasa.gov/tempspace/fits/skv6036325785943_15.fits\n",
      "The file does not exits at https://skyview.gsfc.nasa.gov/tempspace/fits/skv6036325785943_16.fits\n",
      "The file does not exits at https://skyview.gsfc.nasa.gov/tempspace/fits/skv6036325785943_17.fits\n",
      "The file does not exits at https://skyview.gsfc.nasa.gov/tempspace/fits/skv6036325785943_18.fits\n",
      "The file does not exits at https://skyview.gsfc.nasa.gov/tempspace/fits/skv6036325785943_19.fits\n",
      "The file does not exits at https://skyview.gsfc.nasa.gov/tempspace/fits/skv6036325785943_20.fits\n",
      "https://skyview.gsfc.nasa.gov/tempspace/fits/skv6036325785943_21.fits File exists!\n",
      "https://skyview.gsfc.nasa.gov/tempspace/fits/skv6036325785943_22.fits File exists!\n",
      "https://skyview.gsfc.nasa.gov/tempspace/fits/skv6036325785943_23.fits File exists!\n",
      "https://skyview.gsfc.nasa.gov/tempspace/fits/skv6036325785943_24.fits File exists!\n"
     ]
    }
   ],
   "source": [
    "LS2=[]\n",
    "for i,file in enumerate(paths):\n",
    "    r = requests.get(file)\n",
    "    if r.status_code==404:\n",
    "        print('The file does not exits at', r.url)\n",
    "    else:\n",
    "        print(r.url, 'File exists!')\n",
    "        LS2.append(ListSurveys[i])"
   ]
  },
  {
   "cell_type": "code",
   "execution_count": 7,
   "metadata": {
    "collapsed": false
   },
   "outputs": [
    {
     "data": {
      "text/plain": [
       "['GALEX Near UV',\n",
       " 'GALEX Far UV',\n",
       " '2MASS-J',\n",
       " '2MASS-H',\n",
       " '2MASS-K',\n",
       " 'WISE 3.4',\n",
       " 'WISE 4.6',\n",
       " 'WISE 12',\n",
       " 'WISE 22']"
      ]
     },
     "execution_count": 7,
     "metadata": {},
     "output_type": "execute_result"
    }
   ],
   "source": [
    "LS2"
   ]
  },
  {
   "cell_type": "code",
   "execution_count": 8,
   "metadata": {
    "collapsed": true
   },
   "outputs": [],
   "source": [
    "paths2= SkyView.get_images(position='NGC5100', survey=LS2)"
   ]
  },
  {
   "cell_type": "code",
   "execution_count": 9,
   "metadata": {
    "collapsed": false
   },
   "outputs": [
    {
     "data": {
      "text/plain": [
       "[[<astropy.io.fits.hdu.image.PrimaryHDU object at 0x7f82a68c8470>],\n",
       " [<astropy.io.fits.hdu.image.PrimaryHDU object at 0x7f82a68be080>],\n",
       " [<astropy.io.fits.hdu.image.PrimaryHDU object at 0x7f82a68b6c18>],\n",
       " [<astropy.io.fits.hdu.image.PrimaryHDU object at 0x7f82a6895400>],\n",
       " [<astropy.io.fits.hdu.image.PrimaryHDU object at 0x7f82a689cc88>],\n",
       " [<astropy.io.fits.hdu.image.PrimaryHDU object at 0x7f82a6912898>],\n",
       " [<astropy.io.fits.hdu.image.PrimaryHDU object at 0x7f82a6906080>],\n",
       " [<astropy.io.fits.hdu.image.PrimaryHDU object at 0x7f82a68f87b8>],\n",
       " [<astropy.io.fits.hdu.image.PrimaryHDU object at 0x7f82a68f2fd0>]]"
      ]
     },
     "execution_count": 9,
     "metadata": {},
     "output_type": "execute_result"
    }
   ],
   "source": [
    "paths2"
   ]
  },
  {
   "cell_type": "code",
   "execution_count": 19,
   "metadata": {
    "collapsed": false
   },
   "outputs": [],
   "source": [
    "import matplotlib.pyplot as plt\n",
    "plt.imshow(paths2[5][0].data,origin='bottom')           \n",
    "plt.show()"
   ]
  },
  {
   "cell_type": "code",
   "execution_count": null,
   "metadata": {
    "collapsed": true
   },
   "outputs": [],
   "source": [
    "### Now the problem is the units :) "
   ]
  }
 ],
 "metadata": {
  "kernelspec": {
   "display_name": "Python 3",
   "language": "python",
   "name": "python3"
  },
  "language_info": {
   "codemirror_mode": {
    "name": "ipython",
    "version": 3
   },
   "file_extension": ".py",
   "mimetype": "text/x-python",
   "name": "python",
   "nbconvert_exporter": "python",
   "pygments_lexer": "ipython3",
   "version": "3.5.3"
  }
 },
 "nbformat": 4,
 "nbformat_minor": 2
}
